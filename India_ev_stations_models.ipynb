{
 "cells": [
  {
   "cell_type": "code",
   "execution_count": 1,
   "id": "39f982bb",
   "metadata": {},
   "outputs": [],
   "source": [
    "import pandas as pd\n",
    "import numpy as np \n",
    "import matplotlib.pyplot as plt\n",
    "import folium\n",
    "from folium.plugins import MarkerCluster"
   ]
  },
  {
   "cell_type": "code",
   "execution_count": 2,
   "id": "2042c75e",
   "metadata": {},
   "outputs": [
    {
     "data": {
      "text/html": [
       "<div>\n",
       "<style scoped>\n",
       "    .dataframe tbody tr th:only-of-type {\n",
       "        vertical-align: middle;\n",
       "    }\n",
       "\n",
       "    .dataframe tbody tr th {\n",
       "        vertical-align: top;\n",
       "    }\n",
       "\n",
       "    .dataframe thead th {\n",
       "        text-align: right;\n",
       "    }\n",
       "</style>\n",
       "<table border=\"1\" class=\"dataframe\">\n",
       "  <thead>\n",
       "    <tr style=\"text-align: right;\">\n",
       "      <th></th>\n",
       "      <th>name</th>\n",
       "      <th>state</th>\n",
       "      <th>city</th>\n",
       "      <th>address</th>\n",
       "      <th>lattitude</th>\n",
       "      <th>longitude</th>\n",
       "      <th>type</th>\n",
       "    </tr>\n",
       "  </thead>\n",
       "  <tbody>\n",
       "    <tr>\n",
       "      <th>0</th>\n",
       "      <td>Neelkanth Star DC Charging Station</td>\n",
       "      <td>Haryana</td>\n",
       "      <td>Gurugram</td>\n",
       "      <td>Neelkanth Star Karnal, NH 44, Gharunda, Kutail...</td>\n",
       "      <td>29.6019</td>\n",
       "      <td>76.9803</td>\n",
       "      <td>12.0</td>\n",
       "    </tr>\n",
       "    <tr>\n",
       "      <th>1</th>\n",
       "      <td>Galleria DC Charging Station</td>\n",
       "      <td>Haryana</td>\n",
       "      <td>Gurugram</td>\n",
       "      <td>DLF Phase IV, Sector 28, Gurugram, Haryana 122022</td>\n",
       "      <td>28.4673</td>\n",
       "      <td>77.0818</td>\n",
       "      <td>12.0</td>\n",
       "    </tr>\n",
       "    <tr>\n",
       "      <th>2</th>\n",
       "      <td>Highway Xpress (Jaipur-Delhi) DC charging station</td>\n",
       "      <td>Rajasthan</td>\n",
       "      <td>Behror</td>\n",
       "      <td>Jaipur to Delhi Road, Behror Midway, Behror, R...</td>\n",
       "      <td>27.8751</td>\n",
       "      <td>76.2760</td>\n",
       "      <td>12.0</td>\n",
       "    </tr>\n",
       "    <tr>\n",
       "      <th>3</th>\n",
       "      <td>Food Carnival DC Charging Station</td>\n",
       "      <td>Uttar Pradesh</td>\n",
       "      <td>Khatauli</td>\n",
       "      <td>Fun and Food Carnival, NH 58, Khatauli Bypass,...</td>\n",
       "      <td>29.3105</td>\n",
       "      <td>77.7218</td>\n",
       "      <td>12.0</td>\n",
       "    </tr>\n",
       "    <tr>\n",
       "      <th>4</th>\n",
       "      <td>Food Carnival AC Charging Station</td>\n",
       "      <td>Uttar Pradesh</td>\n",
       "      <td>Khatauli</td>\n",
       "      <td>NH 58, Khatauli Bypass, Bhainsi, Uttar Pradesh...</td>\n",
       "      <td>29.3105</td>\n",
       "      <td>77.7218</td>\n",
       "      <td>12.0</td>\n",
       "    </tr>\n",
       "  </tbody>\n",
       "</table>\n",
       "</div>"
      ],
      "text/plain": [
       "                                                name          state      city  \\\n",
       "0                 Neelkanth Star DC Charging Station        Haryana  Gurugram   \n",
       "1                       Galleria DC Charging Station        Haryana  Gurugram   \n",
       "2  Highway Xpress (Jaipur-Delhi) DC charging station      Rajasthan    Behror   \n",
       "3                  Food Carnival DC Charging Station  Uttar Pradesh  Khatauli   \n",
       "4                  Food Carnival AC Charging Station  Uttar Pradesh  Khatauli   \n",
       "\n",
       "                                             address lattitude  longitude  \\\n",
       "0  Neelkanth Star Karnal, NH 44, Gharunda, Kutail...   29.6019    76.9803   \n",
       "1  DLF Phase IV, Sector 28, Gurugram, Haryana 122022   28.4673    77.0818   \n",
       "2  Jaipur to Delhi Road, Behror Midway, Behror, R...   27.8751    76.2760   \n",
       "3  Fun and Food Carnival, NH 58, Khatauli Bypass,...   29.3105    77.7218   \n",
       "4  NH 58, Khatauli Bypass, Bhainsi, Uttar Pradesh...   29.3105    77.7218   \n",
       "\n",
       "   type  \n",
       "0  12.0  \n",
       "1  12.0  \n",
       "2  12.0  \n",
       "3  12.0  \n",
       "4  12.0  "
      ]
     },
     "execution_count": 2,
     "metadata": {},
     "output_type": "execute_result"
    }
   ],
   "source": [
    "ev_stations_df = pd.read_csv('./India_ev-charging-stations.csv')\n",
    "ev_stations_df.head()"
   ]
  },
  {
   "cell_type": "code",
   "execution_count": 3,
   "id": "167bd819",
   "metadata": {},
   "outputs": [
    {
     "data": {
      "text/plain": [
       "Index(['name', 'state', 'city', 'address', 'lattitude', 'longitude', 'type'], dtype='object')"
      ]
     },
     "execution_count": 3,
     "metadata": {},
     "output_type": "execute_result"
    }
   ],
   "source": [
    "ev_stations_df.columns"
   ]
  },
  {
   "cell_type": "code",
   "execution_count": 4,
   "id": "b2cfc557",
   "metadata": {},
   "outputs": [
    {
     "data": {
      "text/plain": [
       "0          29.6019\n",
       "1          28.4673\n",
       "2          27.8751\n",
       "3          29.3105\n",
       "4          29.3105\n",
       "           ...    \n",
       "1542    10.0297934\n",
       "1543    28.3904593\n",
       "1544     28.411072\n",
       "1545    32.7064117\n",
       "1546     12.885716\n",
       "Name: lattitude, Length: 1547, dtype: object"
      ]
     },
     "execution_count": 4,
     "metadata": {},
     "output_type": "execute_result"
    }
   ],
   "source": [
    "ev_stations_df['lattitude']"
   ]
  },
  {
   "cell_type": "code",
   "execution_count": 5,
   "id": "8cc9bb91",
   "metadata": {},
   "outputs": [
    {
     "data": {
      "text/plain": [
       "0       True\n",
       "1       True\n",
       "2       True\n",
       "3       True\n",
       "4       True\n",
       "        ... \n",
       "1542    True\n",
       "1543    True\n",
       "1544    True\n",
       "1545    True\n",
       "1546    True\n",
       "Name: longitude, Length: 1547, dtype: bool"
      ]
     },
     "execution_count": 5,
     "metadata": {},
     "output_type": "execute_result"
    }
   ],
   "source": [
    "ev_stations_df['longitude'].notnull()"
   ]
  },
  {
   "cell_type": "code",
   "execution_count": 6,
   "id": "a522e0bc",
   "metadata": {},
   "outputs": [
    {
     "data": {
      "text/html": [
       "<div style=\"width:100%;\"><div style=\"position:relative;width:100%;height:0;padding-bottom:60%;\"><span style=\"color:#565656\">Make this Notebook Trusted to load map: File -> Trust Notebook</span><iframe srcdoc=\"&lt;!DOCTYPE html&gt;\n",
       "&lt;html&gt;\n",
       "&lt;head&gt;\n",
       "    \n",
       "    &lt;meta http-equiv=&quot;content-type&quot; content=&quot;text/html; charset=UTF-8&quot; /&gt;\n",
       "    \n",
       "        &lt;script&gt;\n",
       "            L_NO_TOUCH = false;\n",
       "            L_DISABLE_3D = false;\n",
       "        &lt;/script&gt;\n",
       "    \n",
       "    &lt;style&gt;html, body {width: 100%;height: 100%;margin: 0;padding: 0;}&lt;/style&gt;\n",
       "    &lt;style&gt;#map {position:absolute;top:0;bottom:0;right:0;left:0;}&lt;/style&gt;\n",
       "    &lt;script src=&quot;https://cdn.jsdelivr.net/npm/leaflet@1.9.3/dist/leaflet.js&quot;&gt;&lt;/script&gt;\n",
       "    &lt;script src=&quot;https://code.jquery.com/jquery-1.12.4.min.js&quot;&gt;&lt;/script&gt;\n",
       "    &lt;script src=&quot;https://cdn.jsdelivr.net/npm/bootstrap@5.2.2/dist/js/bootstrap.bundle.min.js&quot;&gt;&lt;/script&gt;\n",
       "    &lt;script src=&quot;https://cdnjs.cloudflare.com/ajax/libs/Leaflet.awesome-markers/2.0.2/leaflet.awesome-markers.js&quot;&gt;&lt;/script&gt;\n",
       "    &lt;link rel=&quot;stylesheet&quot; href=&quot;https://cdn.jsdelivr.net/npm/leaflet@1.9.3/dist/leaflet.css&quot;/&gt;\n",
       "    &lt;link rel=&quot;stylesheet&quot; href=&quot;https://cdn.jsdelivr.net/npm/bootstrap@5.2.2/dist/css/bootstrap.min.css&quot;/&gt;\n",
       "    &lt;link rel=&quot;stylesheet&quot; href=&quot;https://netdna.bootstrapcdn.com/bootstrap/3.0.0/css/bootstrap.min.css&quot;/&gt;\n",
       "    &lt;link rel=&quot;stylesheet&quot; href=&quot;https://cdn.jsdelivr.net/npm/@fortawesome/fontawesome-free@6.2.0/css/all.min.css&quot;/&gt;\n",
       "    &lt;link rel=&quot;stylesheet&quot; href=&quot;https://cdnjs.cloudflare.com/ajax/libs/Leaflet.awesome-markers/2.0.2/leaflet.awesome-markers.css&quot;/&gt;\n",
       "    &lt;link rel=&quot;stylesheet&quot; href=&quot;https://cdn.jsdelivr.net/gh/python-visualization/folium/folium/templates/leaflet.awesome.rotate.min.css&quot;/&gt;\n",
       "    \n",
       "            &lt;meta name=&quot;viewport&quot; content=&quot;width=device-width,\n",
       "                initial-scale=1.0, maximum-scale=1.0, user-scalable=no&quot; /&gt;\n",
       "            &lt;style&gt;\n",
       "                #map_f2671eb9bc09908b38011a22988b68e5 {\n",
       "                    position: relative;\n",
       "                    width: 100.0%;\n",
       "                    height: 100.0%;\n",
       "                    left: 0.0%;\n",
       "                    top: 0.0%;\n",
       "                }\n",
       "                .leaflet-container { font-size: 1rem; }\n",
       "            &lt;/style&gt;\n",
       "        \n",
       "&lt;/head&gt;\n",
       "&lt;body&gt;\n",
       "    \n",
       "    \n",
       "            &lt;div class=&quot;folium-map&quot; id=&quot;map_f2671eb9bc09908b38011a22988b68e5&quot; &gt;&lt;/div&gt;\n",
       "        \n",
       "&lt;/body&gt;\n",
       "&lt;script&gt;\n",
       "    \n",
       "    \n",
       "            var map_f2671eb9bc09908b38011a22988b68e5 = L.map(\n",
       "                &quot;map_f2671eb9bc09908b38011a22988b68e5&quot;,\n",
       "                {\n",
       "                    center: [0, 0],\n",
       "                    crs: L.CRS.EPSG3857,\n",
       "                    zoom: 1,\n",
       "                    zoomControl: true,\n",
       "                    preferCanvas: false,\n",
       "                }\n",
       "            );\n",
       "\n",
       "            \n",
       "\n",
       "        \n",
       "    \n",
       "            var tile_layer_2ebeb4b985b508c49b38f062d9f96763 = L.tileLayer(\n",
       "                &quot;https://{s}.tile.openstreetmap.org/{z}/{x}/{y}.png&quot;,\n",
       "                {&quot;attribution&quot;: &quot;Data by \\u0026copy; \\u003ca target=\\&quot;_blank\\&quot; href=\\&quot;http://openstreetmap.org\\&quot;\\u003eOpenStreetMap\\u003c/a\\u003e, under \\u003ca target=\\&quot;_blank\\&quot; href=\\&quot;http://www.openstreetmap.org/copyright\\&quot;\\u003eODbL\\u003c/a\\u003e.&quot;, &quot;detectRetina&quot;: false, &quot;maxNativeZoom&quot;: 18, &quot;maxZoom&quot;: 18, &quot;minZoom&quot;: 0, &quot;noWrap&quot;: false, &quot;opacity&quot;: 1, &quot;subdomains&quot;: &quot;abc&quot;, &quot;tms&quot;: false}\n",
       "            ).addTo(map_f2671eb9bc09908b38011a22988b68e5);\n",
       "        \n",
       "&lt;/script&gt;\n",
       "&lt;/html&gt;\" style=\"position:absolute;width:100%;height:100%;left:0;top:0;border:none !important;\" allowfullscreen webkitallowfullscreen mozallowfullscreen></iframe></div></div>"
      ],
      "text/plain": [
       "<folium.folium.Map at 0x7ff3be0eec20>"
      ]
     },
     "execution_count": 6,
     "metadata": {},
     "output_type": "execute_result"
    }
   ],
   "source": [
    "folium.Map()\n",
    "# shows world map"
   ]
  },
  {
   "cell_type": "code",
   "execution_count": 7,
   "id": "9221e3d6",
   "metadata": {},
   "outputs": [
    {
     "data": {
      "text/html": [
       "<div style=\"width:100%;\"><div style=\"position:relative;width:100%;height:0;padding-bottom:60%;\"><span style=\"color:#565656\">Make this Notebook Trusted to load map: File -> Trust Notebook</span><iframe srcdoc=\"&lt;!DOCTYPE html&gt;\n",
       "&lt;html&gt;\n",
       "&lt;head&gt;\n",
       "    \n",
       "    &lt;meta http-equiv=&quot;content-type&quot; content=&quot;text/html; charset=UTF-8&quot; /&gt;\n",
       "    \n",
       "        &lt;script&gt;\n",
       "            L_NO_TOUCH = false;\n",
       "            L_DISABLE_3D = false;\n",
       "        &lt;/script&gt;\n",
       "    \n",
       "    &lt;style&gt;html, body {width: 100%;height: 100%;margin: 0;padding: 0;}&lt;/style&gt;\n",
       "    &lt;style&gt;#map {position:absolute;top:0;bottom:0;right:0;left:0;}&lt;/style&gt;\n",
       "    &lt;script src=&quot;https://cdn.jsdelivr.net/npm/leaflet@1.9.3/dist/leaflet.js&quot;&gt;&lt;/script&gt;\n",
       "    &lt;script src=&quot;https://code.jquery.com/jquery-1.12.4.min.js&quot;&gt;&lt;/script&gt;\n",
       "    &lt;script src=&quot;https://cdn.jsdelivr.net/npm/bootstrap@5.2.2/dist/js/bootstrap.bundle.min.js&quot;&gt;&lt;/script&gt;\n",
       "    &lt;script src=&quot;https://cdnjs.cloudflare.com/ajax/libs/Leaflet.awesome-markers/2.0.2/leaflet.awesome-markers.js&quot;&gt;&lt;/script&gt;\n",
       "    &lt;link rel=&quot;stylesheet&quot; href=&quot;https://cdn.jsdelivr.net/npm/leaflet@1.9.3/dist/leaflet.css&quot;/&gt;\n",
       "    &lt;link rel=&quot;stylesheet&quot; href=&quot;https://cdn.jsdelivr.net/npm/bootstrap@5.2.2/dist/css/bootstrap.min.css&quot;/&gt;\n",
       "    &lt;link rel=&quot;stylesheet&quot; href=&quot;https://netdna.bootstrapcdn.com/bootstrap/3.0.0/css/bootstrap.min.css&quot;/&gt;\n",
       "    &lt;link rel=&quot;stylesheet&quot; href=&quot;https://cdn.jsdelivr.net/npm/@fortawesome/fontawesome-free@6.2.0/css/all.min.css&quot;/&gt;\n",
       "    &lt;link rel=&quot;stylesheet&quot; href=&quot;https://cdnjs.cloudflare.com/ajax/libs/Leaflet.awesome-markers/2.0.2/leaflet.awesome-markers.css&quot;/&gt;\n",
       "    &lt;link rel=&quot;stylesheet&quot; href=&quot;https://cdn.jsdelivr.net/gh/python-visualization/folium/folium/templates/leaflet.awesome.rotate.min.css&quot;/&gt;\n",
       "    \n",
       "            &lt;meta name=&quot;viewport&quot; content=&quot;width=device-width,\n",
       "                initial-scale=1.0, maximum-scale=1.0, user-scalable=no&quot; /&gt;\n",
       "            &lt;style&gt;\n",
       "                #map_2e3c7d60ed6738bedaf89484e2080bc7 {\n",
       "                    position: relative;\n",
       "                    width: 100.0%;\n",
       "                    height: 100.0%;\n",
       "                    left: 0.0%;\n",
       "                    top: 0.0%;\n",
       "                }\n",
       "                .leaflet-container { font-size: 1rem; }\n",
       "            &lt;/style&gt;\n",
       "        \n",
       "&lt;/head&gt;\n",
       "&lt;body&gt;\n",
       "    \n",
       "    \n",
       "            &lt;div class=&quot;folium-map&quot; id=&quot;map_2e3c7d60ed6738bedaf89484e2080bc7&quot; &gt;&lt;/div&gt;\n",
       "        \n",
       "&lt;/body&gt;\n",
       "&lt;script&gt;\n",
       "    \n",
       "    \n",
       "            var map_2e3c7d60ed6738bedaf89484e2080bc7 = L.map(\n",
       "                &quot;map_2e3c7d60ed6738bedaf89484e2080bc7&quot;,\n",
       "                {\n",
       "                    center: [23.0, 80.0],\n",
       "                    crs: L.CRS.EPSG3857,\n",
       "                    zoom: 4,\n",
       "                    zoomControl: true,\n",
       "                    preferCanvas: false,\n",
       "                }\n",
       "            );\n",
       "\n",
       "            \n",
       "\n",
       "        \n",
       "    \n",
       "            var tile_layer_e13e3e59d98e2ce976c4e5e901fc3bc8 = L.tileLayer(\n",
       "                &quot;https://{s}.tile.openstreetmap.org/{z}/{x}/{y}.png&quot;,\n",
       "                {&quot;attribution&quot;: &quot;Data by \\u0026copy; \\u003ca target=\\&quot;_blank\\&quot; href=\\&quot;http://openstreetmap.org\\&quot;\\u003eOpenStreetMap\\u003c/a\\u003e, under \\u003ca target=\\&quot;_blank\\&quot; href=\\&quot;http://www.openstreetmap.org/copyright\\&quot;\\u003eODbL\\u003c/a\\u003e.&quot;, &quot;detectRetina&quot;: false, &quot;maxNativeZoom&quot;: 18, &quot;maxZoom&quot;: 18, &quot;minZoom&quot;: 0, &quot;noWrap&quot;: false, &quot;opacity&quot;: 1, &quot;subdomains&quot;: &quot;abc&quot;, &quot;tms&quot;: false}\n",
       "            ).addTo(map_2e3c7d60ed6738bedaf89484e2080bc7);\n",
       "        \n",
       "&lt;/script&gt;\n",
       "&lt;/html&gt;\" style=\"position:absolute;width:100%;height:100%;left:0;top:0;border:none !important;\" allowfullscreen webkitallowfullscreen mozallowfullscreen></iframe></div></div>"
      ],
      "text/plain": [
       "<folium.folium.Map at 0x7ff3be0ed120>"
      ]
     },
     "execution_count": 7,
     "metadata": {},
     "output_type": "execute_result"
    }
   ],
   "source": [
    "folium.Map(location=[23,80],zoom_start=4)"
   ]
  },
  {
   "cell_type": "code",
   "execution_count": 8,
   "id": "61cb2321",
   "metadata": {},
   "outputs": [
    {
     "data": {
      "text/plain": [
       "0             Haryana\n",
       "1             Haryana\n",
       "2           Rajasthan\n",
       "3       Uttar Pradesh\n",
       "4       Uttar Pradesh\n",
       "            ...      \n",
       "1542           Kerala\n",
       "1543          Haryana\n",
       "1544          Haryana\n",
       "1545            Jammu\n",
       "1546        Karnataka\n",
       "Name: state, Length: 1547, dtype: object"
      ]
     },
     "execution_count": 8,
     "metadata": {},
     "output_type": "execute_result"
    }
   ],
   "source": [
    "ev_stations_df['state']"
   ]
  },
  {
   "cell_type": "code",
   "execution_count": 9,
   "id": "b719e110",
   "metadata": {},
   "outputs": [
    {
     "data": {
      "text/plain": [
       "0        Gurugram\n",
       "1        Gurugram\n",
       "2          Behror\n",
       "3        Khatauli\n",
       "4        Khatauli\n",
       "          ...    \n",
       "1542       Munnar\n",
       "1543      Gurgaon\n",
       "1544      Gurgaon\n",
       "1545        Jammu\n",
       "1546    Mangalore\n",
       "Name: city, Length: 1547, dtype: object"
      ]
     },
     "execution_count": 9,
     "metadata": {},
     "output_type": "execute_result"
    }
   ],
   "source": [
    "ev_stations_df['city']"
   ]
  },
  {
   "cell_type": "code",
   "execution_count": 10,
   "id": "e371e89f",
   "metadata": {},
   "outputs": [
    {
     "data": {
      "text/html": [
       "<div>\n",
       "<style scoped>\n",
       "    .dataframe tbody tr th:only-of-type {\n",
       "        vertical-align: middle;\n",
       "    }\n",
       "\n",
       "    .dataframe tbody tr th {\n",
       "        vertical-align: top;\n",
       "    }\n",
       "\n",
       "    .dataframe thead th {\n",
       "        text-align: right;\n",
       "    }\n",
       "</style>\n",
       "<table border=\"1\" class=\"dataframe\">\n",
       "  <thead>\n",
       "    <tr style=\"text-align: right;\">\n",
       "      <th></th>\n",
       "      <th>name</th>\n",
       "      <th>state</th>\n",
       "      <th>city</th>\n",
       "      <th>address</th>\n",
       "      <th>lattitude</th>\n",
       "      <th>longitude</th>\n",
       "      <th>type</th>\n",
       "    </tr>\n",
       "  </thead>\n",
       "  <tbody>\n",
       "    <tr>\n",
       "      <th>41</th>\n",
       "      <td>HP Super Service DC Charging Station</td>\n",
       "      <td>Maharashtra</td>\n",
       "      <td>Mumbai</td>\n",
       "      <td>157, Jeevan Bima Marg, Backbay Reclamation, Ch...</td>\n",
       "      <td>18.9285</td>\n",
       "      <td>72.8255</td>\n",
       "      <td>12.0</td>\n",
       "    </tr>\n",
       "    <tr>\n",
       "      <th>55</th>\n",
       "      <td>Kohinoor Altissimo Residential Tower</td>\n",
       "      <td>Maharashtra</td>\n",
       "      <td>Mumbai</td>\n",
       "      <td>Kohinoor Altissimo Residential Tower, Kohinoor...</td>\n",
       "      <td>19.0246</td>\n",
       "      <td>72.8402</td>\n",
       "      <td>12.0</td>\n",
       "    </tr>\n",
       "    <tr>\n",
       "      <th>61</th>\n",
       "      <td>Evershine Mall Charging Station</td>\n",
       "      <td>Maharashtra</td>\n",
       "      <td>Mumbai</td>\n",
       "      <td>Chincholi Bunder Road, New Link Rd, Malad West...</td>\n",
       "      <td>19.1798</td>\n",
       "      <td>72.8361</td>\n",
       "      <td>12.0</td>\n",
       "    </tr>\n",
       "    <tr>\n",
       "      <th>81</th>\n",
       "      <td>Pendse Garage AC Charging Station</td>\n",
       "      <td>Maharashtra</td>\n",
       "      <td>Nashik</td>\n",
       "      <td>Pendse Garage, At post diveagar tal Shriwardha...</td>\n",
       "      <td>18.1655</td>\n",
       "      <td>72.9929</td>\n",
       "      <td>12.0</td>\n",
       "    </tr>\n",
       "    <tr>\n",
       "      <th>82</th>\n",
       "      <td>Hans Resort DC Charging Station Rewari</td>\n",
       "      <td>Karnataka</td>\n",
       "      <td>Nashik</td>\n",
       "      <td>Hans Resort, 91 Milestone, Delhi-Jaipur Highwa...</td>\n",
       "      <td>28.1254</td>\n",
       "      <td>76.6368</td>\n",
       "      <td>12.0</td>\n",
       "    </tr>\n",
       "  </tbody>\n",
       "</table>\n",
       "</div>"
      ],
      "text/plain": [
       "                                      name        state    city  \\\n",
       "41    HP Super Service DC Charging Station  Maharashtra  Mumbai   \n",
       "55    Kohinoor Altissimo Residential Tower  Maharashtra  Mumbai   \n",
       "61         Evershine Mall Charging Station  Maharashtra  Mumbai   \n",
       "81       Pendse Garage AC Charging Station  Maharashtra  Nashik   \n",
       "82  Hans Resort DC Charging Station Rewari    Karnataka  Nashik   \n",
       "\n",
       "                                              address lattitude  longitude  \\\n",
       "41  157, Jeevan Bima Marg, Backbay Reclamation, Ch...   18.9285    72.8255   \n",
       "55  Kohinoor Altissimo Residential Tower, Kohinoor...   19.0246    72.8402   \n",
       "61  Chincholi Bunder Road, New Link Rd, Malad West...   19.1798    72.8361   \n",
       "81  Pendse Garage, At post diveagar tal Shriwardha...   18.1655    72.9929   \n",
       "82  Hans Resort, 91 Milestone, Delhi-Jaipur Highwa...   28.1254    76.6368   \n",
       "\n",
       "    type  \n",
       "41  12.0  \n",
       "55  12.0  \n",
       "61  12.0  \n",
       "81  12.0  \n",
       "82  12.0  "
      ]
     },
     "execution_count": 10,
     "metadata": {},
     "output_type": "execute_result"
    }
   ],
   "source": [
    "# locations_df = ev_stations_df[ev_stations_df['lattitude'].notnull() & ev_stations_df['longitude'].notnull()]\n",
    "# city_maharashtra_locations_df = locations_df[(locations_df['state'] == 'Maharashtra') &( (locations_df['city'] == 'Mumbai')| (locations_df['city'] == 'goa')\n",
    "#                                               | (locations_df['city'] == 'nashik') | (locations_df['city'] == 'Nashik') | (locations_df['city'] == 'MUMBAI') | (locations_df['city'] == 'Navi Mumbai'))]\n",
    "\n",
    "locations_df = ev_stations_df[ev_stations_df['lattitude'].notnull() & ev_stations_df['longitude'].notnull()]\n",
    "city_maharashtra_locations_df = locations_df[ (locations_df['city'] == 'Mumbai')| (locations_df['city'] == 'goa')\n",
    "                                              | (locations_df['city'] == 'nashik') | (locations_df['city'] == 'Nashik') | (locations_df['city'] == 'MUMBAI') | (locations_df['city'] == 'Navi Mumbai')]\n",
    "\n",
    "city_maharashtra_locations_df.head()\n",
    "city_maharashtra_locations_df.head()\n"
   ]
  },
  {
   "cell_type": "code",
   "execution_count": 15,
   "id": "895193d3",
   "metadata": {},
   "outputs": [
    {
     "ename": "ValueError",
     "evalue": "could not convert string to float: 'C'",
     "output_type": "error",
     "traceback": [
      "\u001b[0;31m---------------------------------------------------------------------------\u001b[0m",
      "\u001b[0;31mValueError\u001b[0m                                Traceback (most recent call last)",
      "\u001b[0;32m/tmp/ipykernel_3430/3618023945.py\u001b[0m in \u001b[0;36m<module>\u001b[0;34m\u001b[0m\n\u001b[1;32m      4\u001b[0m \u001b[0mpopup\u001b[0m \u001b[0;34m=\u001b[0m \u001b[0mev_stations_df\u001b[0m\u001b[0;34m[\u001b[0m\u001b[0;34m'name'\u001b[0m\u001b[0;34m]\u001b[0m\u001b[0;34m\u001b[0m\u001b[0;34m\u001b[0m\u001b[0m\n\u001b[1;32m      5\u001b[0m \u001b[0;31m# add points to the map\u001b[0m\u001b[0;34m\u001b[0m\u001b[0;34m\u001b[0m\u001b[0m\n\u001b[0;32m----> 6\u001b[0;31m \u001b[0mmarker_cluster\u001b[0m \u001b[0;34m=\u001b[0m \u001b[0mfolium\u001b[0m\u001b[0;34m.\u001b[0m\u001b[0mplugins\u001b[0m\u001b[0;34m.\u001b[0m\u001b[0mMarkerCluster\u001b[0m\u001b[0;34m(\u001b[0m\u001b[0;34m\"Cluster Name\"\u001b[0m\u001b[0;34m)\u001b[0m\u001b[0;34m.\u001b[0m\u001b[0madd_to\u001b[0m\u001b[0;34m(\u001b[0m\u001b[0mmaharashtra_map\u001b[0m\u001b[0;34m)\u001b[0m\u001b[0;34m\u001b[0m\u001b[0;34m\u001b[0m\u001b[0m\n\u001b[0m\u001b[1;32m      7\u001b[0m \u001b[0;34m\u001b[0m\u001b[0m\n\u001b[1;32m      8\u001b[0m \u001b[0mfolium\u001b[0m\u001b[0;34m.\u001b[0m\u001b[0mMarker\u001b[0m\u001b[0;34m(\u001b[0m\u001b[0;34m[\u001b[0m\u001b[0mlocation_1\u001b[0m\u001b[0;34m,\u001b[0m\u001b[0mlocation_2\u001b[0m\u001b[0;34m]\u001b[0m\u001b[0;34m)\u001b[0m\u001b[0;34m.\u001b[0m\u001b[0madd_to\u001b[0m\u001b[0;34m(\u001b[0m\u001b[0mmarker_cluster\u001b[0m\u001b[0;34m)\u001b[0m\u001b[0;34m\u001b[0m\u001b[0;34m\u001b[0m\u001b[0m\n",
      "\u001b[0;32m~/.local/lib/python3.10/site-packages/folium/plugins/marker_cluster.py\u001b[0m in \u001b[0;36m__init__\u001b[0;34m(self, locations, popups, icons, name, overlay, control, show, icon_create_function, options, **kwargs)\u001b[0m\n\u001b[1;32m     97\u001b[0m \u001b[0;34m\u001b[0m\u001b[0m\n\u001b[1;32m     98\u001b[0m         \u001b[0;32mif\u001b[0m \u001b[0mlocations\u001b[0m \u001b[0;32mis\u001b[0m \u001b[0;32mnot\u001b[0m \u001b[0;32mNone\u001b[0m\u001b[0;34m:\u001b[0m\u001b[0;34m\u001b[0m\u001b[0;34m\u001b[0m\u001b[0m\n\u001b[0;32m---> 99\u001b[0;31m             \u001b[0mlocations\u001b[0m \u001b[0;34m=\u001b[0m \u001b[0mvalidate_locations\u001b[0m\u001b[0;34m(\u001b[0m\u001b[0mlocations\u001b[0m\u001b[0;34m)\u001b[0m\u001b[0;34m\u001b[0m\u001b[0;34m\u001b[0m\u001b[0m\n\u001b[0m\u001b[1;32m    100\u001b[0m             \u001b[0;32mfor\u001b[0m \u001b[0mi\u001b[0m\u001b[0;34m,\u001b[0m \u001b[0mlocation\u001b[0m \u001b[0;32min\u001b[0m \u001b[0menumerate\u001b[0m\u001b[0;34m(\u001b[0m\u001b[0mlocations\u001b[0m\u001b[0;34m)\u001b[0m\u001b[0;34m:\u001b[0m\u001b[0;34m\u001b[0m\u001b[0;34m\u001b[0m\u001b[0m\n\u001b[1;32m    101\u001b[0m                 self.add_child(\n",
      "\u001b[0;32m~/.local/lib/python3.10/site-packages/folium/utilities.py\u001b[0m in \u001b[0;36mvalidate_locations\u001b[0;34m(locations)\u001b[0m\n\u001b[1;32m    101\u001b[0m         \u001b[0;32mraise\u001b[0m \u001b[0mValueError\u001b[0m\u001b[0;34m(\u001b[0m\u001b[0;34m\"Locations is empty.\"\u001b[0m\u001b[0;34m)\u001b[0m\u001b[0;34m\u001b[0m\u001b[0;34m\u001b[0m\u001b[0m\n\u001b[1;32m    102\u001b[0m     \u001b[0;32mtry\u001b[0m\u001b[0;34m:\u001b[0m\u001b[0;34m\u001b[0m\u001b[0;34m\u001b[0m\u001b[0m\n\u001b[0;32m--> 103\u001b[0;31m         \u001b[0mfloat\u001b[0m\u001b[0;34m(\u001b[0m\u001b[0mnext\u001b[0m\u001b[0;34m(\u001b[0m\u001b[0miter\u001b[0m\u001b[0;34m(\u001b[0m\u001b[0mnext\u001b[0m\u001b[0;34m(\u001b[0m\u001b[0miter\u001b[0m\u001b[0;34m(\u001b[0m\u001b[0mnext\u001b[0m\u001b[0;34m(\u001b[0m\u001b[0miter\u001b[0m\u001b[0;34m(\u001b[0m\u001b[0mlocations\u001b[0m\u001b[0;34m)\u001b[0m\u001b[0;34m)\u001b[0m\u001b[0;34m)\u001b[0m\u001b[0;34m)\u001b[0m\u001b[0;34m)\u001b[0m\u001b[0;34m)\u001b[0m\u001b[0;34m)\u001b[0m\u001b[0;34m\u001b[0m\u001b[0;34m\u001b[0m\u001b[0m\n\u001b[0m\u001b[1;32m    104\u001b[0m     \u001b[0;32mexcept\u001b[0m \u001b[0;34m(\u001b[0m\u001b[0mTypeError\u001b[0m\u001b[0;34m,\u001b[0m \u001b[0mStopIteration\u001b[0m\u001b[0;34m)\u001b[0m\u001b[0;34m:\u001b[0m\u001b[0;34m\u001b[0m\u001b[0;34m\u001b[0m\u001b[0m\n\u001b[1;32m    105\u001b[0m         \u001b[0;31m# locations is a list of coordinate pairs\u001b[0m\u001b[0;34m\u001b[0m\u001b[0;34m\u001b[0m\u001b[0m\n",
      "\u001b[0;31mValueError\u001b[0m: could not convert string to float: 'C'"
     ]
    }
   ],
   "source": [
    "maharashtra_map = folium.Map(location=[23,80],zoom_start=4,titles='maharashtra_street_map')\n",
    "location_1=   ev_stations_df['lattitude']\n",
    "location_2=   ev_stations_df['longitude']\n",
    "popup = ev_stations_df['name']\n",
    "# add points to the map\n",
    "marker_cluster = folium.plugins.MarkerCluster(\"Cluster Name\").add_to(maharashtra_map)\n",
    "\n",
    "folium.Marker([location_1,location_2]).add_to(marker_cluster)\n",
    "# for idx, row in city_maharashtra_locations_df.iterrows():\n",
    "#     mc.add_child((),popup.add_to(maharashtra_map))\n",
    "\n",
    "# # add the marker cluster to the map\n",
    "# maharashtra_map.add_child(mc)\n",
    "# Display the map\n",
    "maharashtra_map\n",
    "\n",
    "\n",
    "\t\n",
    "\n",
    "\n",
    "# from ipyleaflet import Map, Marker, MarkerCluster\n",
    "\n",
    "# m = Map(center=(50, 0), zoom=5)\n",
    "\n",
    "# marker1 = Marker(location=(48, -2))\n",
    "# marker2 = Marker(location=(50, 0))\n",
    "# marker3 = Marker(location=(52, 2))\n",
    "\n",
    "# marker_cluster = MarkerCluster(\n",
    "#     markers=(marker1, marker2, marker3)\n",
    "# )\n",
    "\n",
    "# m.add_layer(marker_cluster);\n",
    "\n",
    "# m"
   ]
  },
  {
   "cell_type": "code",
   "execution_count": null,
   "id": "ac469c53",
   "metadata": {},
   "outputs": [],
   "source": []
  },
  {
   "cell_type": "code",
   "execution_count": null,
   "id": "21b26a10",
   "metadata": {},
   "outputs": [],
   "source": []
  }
 ],
 "metadata": {
  "kernelspec": {
   "display_name": "Python 3 (ipykernel)",
   "language": "python",
   "name": "python3"
  },
  "language_info": {
   "codemirror_mode": {
    "name": "ipython",
    "version": 3
   },
   "file_extension": ".py",
   "mimetype": "text/x-python",
   "name": "python",
   "nbconvert_exporter": "python",
   "pygments_lexer": "ipython3",
   "version": "3.10.7"
  }
 },
 "nbformat": 4,
 "nbformat_minor": 5
}
